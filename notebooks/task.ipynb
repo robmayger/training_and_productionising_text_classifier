{
 "cells": [
  {
   "cell_type": "code",
   "execution_count": 1,
   "id": "d61ef4ec",
   "metadata": {},
   "outputs": [
    {
     "name": "stderr",
     "output_type": "stream",
     "text": [
      "[nltk_data] Downloading package punkt to /root/nltk_data...\n",
      "[nltk_data]   Package punkt is already up-to-date!\n",
      "[nltk_data] Downloading package punkt_tab to /root/nltk_data...\n",
      "[nltk_data]   Package punkt_tab is already up-to-date!\n",
      "[nltk_data] Downloading package stopwords to /root/nltk_data...\n",
      "[nltk_data]   Package stopwords is already up-to-date!\n"
     ]
    }
   ],
   "source": [
    "from pathlib import Path\n",
    "import os\n",
    "from src.modelling import MeanPoolingTextClassifier, TransformerTextClassifier\n",
    "from src.preprocessing import TextPreprocessor\n",
    "import pytorch_lightning as pl\n",
    "\n",
    "import pandas as pd"
   ]
  },
  {
   "cell_type": "code",
   "execution_count": 2,
   "id": "3e174b3c",
   "metadata": {},
   "outputs": [
    {
     "data": {
      "text/plain": [
       "PosixPath('/workspace')"
      ]
     },
     "execution_count": 2,
     "metadata": {},
     "output_type": "execute_result"
    }
   ],
   "source": [
    "base_path = Path(os.getcwd()).parent\n",
    "base_path"
   ]
  },
  {
   "cell_type": "code",
   "execution_count": 3,
   "id": "d327e5db",
   "metadata": {},
   "outputs": [
    {
     "data": {
      "text/html": [
       "<div>\n",
       "<style scoped>\n",
       "    .dataframe tbody tr th:only-of-type {\n",
       "        vertical-align: middle;\n",
       "    }\n",
       "\n",
       "    .dataframe tbody tr th {\n",
       "        vertical-align: top;\n",
       "    }\n",
       "\n",
       "    .dataframe thead th {\n",
       "        text-align: right;\n",
       "    }\n",
       "</style>\n",
       "<table border=\"1\" class=\"dataframe\">\n",
       "  <thead>\n",
       "    <tr style=\"text-align: right;\">\n",
       "      <th></th>\n",
       "      <th>id</th>\n",
       "      <th>company_description</th>\n",
       "      <th>source</th>\n",
       "      <th>is_edited</th>\n",
       "      <th>created_at</th>\n",
       "    </tr>\n",
       "  </thead>\n",
       "  <tbody>\n",
       "    <tr>\n",
       "      <th>0</th>\n",
       "      <td>370341</td>\n",
       "      <td>Cegid is a leading provider of cloud business ...</td>\n",
       "      <td>LinkedIn - Reported</td>\n",
       "      <td>0.0</td>\n",
       "      <td>2023-08-05 12:22:59</td>\n",
       "    </tr>\n",
       "    <tr>\n",
       "      <th>1</th>\n",
       "      <td>537105</td>\n",
       "      <td>Page 1 Printers is a service oriented printing...</td>\n",
       "      <td>LinkedIn - Reported</td>\n",
       "      <td>0.0</td>\n",
       "      <td>2023-10-31 02:53:58</td>\n",
       "    </tr>\n",
       "    <tr>\n",
       "      <th>2</th>\n",
       "      <td>581168</td>\n",
       "      <td>Unifrog is a whole-school careers and destinat...</td>\n",
       "      <td>LinkedIn - Reported</td>\n",
       "      <td>0.0</td>\n",
       "      <td>2023-11-01 12:34:34</td>\n",
       "    </tr>\n",
       "    <tr>\n",
       "      <th>3</th>\n",
       "      <td>367853</td>\n",
       "      <td>Créée au lendemain de la seconde guerre mondia...</td>\n",
       "      <td>LinkedIn - Reported</td>\n",
       "      <td>0.0</td>\n",
       "      <td>2023-08-05 09:37:34</td>\n",
       "    </tr>\n",
       "    <tr>\n",
       "      <th>4</th>\n",
       "      <td>353476</td>\n",
       "      <td>‘Niche Engineering From Concept To Supply’\\ \\ ...</td>\n",
       "      <td>LinkedIn - Reported</td>\n",
       "      <td>0.0</td>\n",
       "      <td>2023-08-04 14:30:31</td>\n",
       "    </tr>\n",
       "  </tbody>\n",
       "</table>\n",
       "</div>"
      ],
      "text/plain": [
       "       id                                company_description  \\\n",
       "0  370341  Cegid is a leading provider of cloud business ...   \n",
       "1  537105  Page 1 Printers is a service oriented printing...   \n",
       "2  581168  Unifrog is a whole-school careers and destinat...   \n",
       "3  367853  Créée au lendemain de la seconde guerre mondia...   \n",
       "4  353476  ‘Niche Engineering From Concept To Supply’\\ \\ ...   \n",
       "\n",
       "                source  is_edited          created_at  \n",
       "0  LinkedIn - Reported        0.0 2023-08-05 12:22:59  \n",
       "1  LinkedIn - Reported        0.0 2023-10-31 02:53:58  \n",
       "2  LinkedIn - Reported        0.0 2023-11-01 12:34:34  \n",
       "3  LinkedIn - Reported        0.0 2023-08-05 09:37:34  \n",
       "4  LinkedIn - Reported        0.0 2023-08-04 14:30:31  "
      ]
     },
     "execution_count": 3,
     "metadata": {},
     "output_type": "execute_result"
    }
   ],
   "source": [
    "df = (\n",
    "    pd.read_csv(base_path / \"data\" / \"2025_data_to_explore.csv\")\n",
    "    .filter(['id', 'company_description', 'source', 'is_edited', 'created_at'])\n",
    "    .dropna()\n",
    "    .astype(\n",
    "        {\n",
    "            \"id\": \"int64\",\n",
    "            \"is_edited\": \"float64\"\n",
    "        }\n",
    "    )\n",
    "    .assign(created_at=lambda d: pd.to_datetime(d[\"created_at\"]))\n",
    ")\n",
    "df.head()"
   ]
  },
  {
   "cell_type": "code",
   "execution_count": 4,
   "id": "d5f50192",
   "metadata": {},
   "outputs": [
    {
     "name": "stdout",
     "output_type": "stream",
     "text": [
      "          id                                company_description  \\\n",
      "0     370341  Cegid is a leading provider of cloud business ...   \n",
      "1     537105  Page 1 Printers is a service oriented printing...   \n",
      "2     581168  Unifrog is a whole-school careers and destinat...   \n",
      "3     367853  Créée au lendemain de la seconde guerre mondia...   \n",
      "4     353476  ‘Niche Engineering From Concept To Supply’\\ \\ ...   \n",
      "...      ...                                                ...   \n",
      "1095  641607  OnRamp is dynamic customer onboarding software...   \n",
      "1096  422103  Spaulding Clinical CRO specializes in Phase I ...   \n",
      "1097  366705  L’AVENIR DES ENFANTS SE JOUE MAINTENANT !\\ Cha...   \n",
      "1098  572679  LUM Transition crée en 2014 est la première en...   \n",
      "1099  681017  Patent Boutique European and UK Patent Attorne...   \n",
      "\n",
      "                   source  is_edited          created_at language  \n",
      "0     LinkedIn - Reported        0.0 2023-08-05 12:22:59       en  \n",
      "1     LinkedIn - Reported        0.0 2023-10-31 02:53:58       en  \n",
      "2     LinkedIn - Reported        0.0 2023-11-01 12:34:34       en  \n",
      "3     LinkedIn - Reported        0.0 2023-08-05 09:37:34       fr  \n",
      "4     LinkedIn - Reported        0.0 2023-08-04 14:30:31       en  \n",
      "...                   ...        ...                 ...      ...  \n",
      "1095  LinkedIn - Reported        0.0 2023-12-04 21:49:02       en  \n",
      "1096              website        0.0 2023-10-23 20:51:56       en  \n",
      "1097  LinkedIn - Reported        0.0 2023-08-05 08:18:41       fr  \n",
      "1098  LinkedIn - Reported        0.0 2023-11-01 05:04:16       fr  \n",
      "1099              website        0.0 2024-01-04 20:15:42       en  \n",
      "\n",
      "[1085 rows x 6 columns]\n"
     ]
    }
   ],
   "source": [
    "import pandas as pd\n",
    "from langdetect import detect, DetectorFactory\n",
    "\n",
    "# Ensure consistent results\n",
    "DetectorFactory.seed = 0\n",
    "\n",
    "# Function to detect language safely\n",
    "def detect_language(text):\n",
    "    try:\n",
    "        return detect(text)\n",
    "    except:\n",
    "        return \"unknown\"\n",
    "\n",
    "# Apply to the column\n",
    "df['language'] = df['company_description'].apply(detect_language)\n",
    "\n",
    "print(df)"
   ]
  },
  {
   "cell_type": "code",
   "execution_count": 5,
   "id": "ec8f3416",
   "metadata": {},
   "outputs": [
    {
     "data": {
      "text/html": [
       "<div>\n",
       "<style scoped>\n",
       "    .dataframe tbody tr th:only-of-type {\n",
       "        vertical-align: middle;\n",
       "    }\n",
       "\n",
       "    .dataframe tbody tr th {\n",
       "        vertical-align: top;\n",
       "    }\n",
       "\n",
       "    .dataframe thead th {\n",
       "        text-align: right;\n",
       "    }\n",
       "</style>\n",
       "<table border=\"1\" class=\"dataframe\">\n",
       "  <thead>\n",
       "    <tr style=\"text-align: right;\">\n",
       "      <th></th>\n",
       "      <th>id</th>\n",
       "      <th>company_description</th>\n",
       "      <th>source</th>\n",
       "      <th>is_edited</th>\n",
       "      <th>created_at</th>\n",
       "      <th>language</th>\n",
       "    </tr>\n",
       "  </thead>\n",
       "  <tbody>\n",
       "    <tr>\n",
       "      <th>0</th>\n",
       "      <td>370341</td>\n",
       "      <td>Cegid is a leading provider of cloud business ...</td>\n",
       "      <td>LinkedIn - Reported</td>\n",
       "      <td>0.0</td>\n",
       "      <td>2023-08-05 12:22:59</td>\n",
       "      <td>en</td>\n",
       "    </tr>\n",
       "    <tr>\n",
       "      <th>1</th>\n",
       "      <td>537105</td>\n",
       "      <td>Page 1 Printers is a service oriented printing...</td>\n",
       "      <td>LinkedIn - Reported</td>\n",
       "      <td>0.0</td>\n",
       "      <td>2023-10-31 02:53:58</td>\n",
       "      <td>en</td>\n",
       "    </tr>\n",
       "    <tr>\n",
       "      <th>2</th>\n",
       "      <td>581168</td>\n",
       "      <td>Unifrog is a whole-school careers and destinat...</td>\n",
       "      <td>LinkedIn - Reported</td>\n",
       "      <td>0.0</td>\n",
       "      <td>2023-11-01 12:34:34</td>\n",
       "      <td>en</td>\n",
       "    </tr>\n",
       "    <tr>\n",
       "      <th>4</th>\n",
       "      <td>353476</td>\n",
       "      <td>‘Niche Engineering From Concept To Supply’\\ \\ ...</td>\n",
       "      <td>LinkedIn - Reported</td>\n",
       "      <td>0.0</td>\n",
       "      <td>2023-08-04 14:30:31</td>\n",
       "      <td>en</td>\n",
       "    </tr>\n",
       "    <tr>\n",
       "      <th>5</th>\n",
       "      <td>420991</td>\n",
       "      <td>Control your data. Collect your money. Explora...</td>\n",
       "      <td>website</td>\n",
       "      <td>0.0</td>\n",
       "      <td>2023-10-23 18:55:50</td>\n",
       "      <td>en</td>\n",
       "    </tr>\n",
       "  </tbody>\n",
       "</table>\n",
       "</div>"
      ],
      "text/plain": [
       "       id                                company_description  \\\n",
       "0  370341  Cegid is a leading provider of cloud business ...   \n",
       "1  537105  Page 1 Printers is a service oriented printing...   \n",
       "2  581168  Unifrog is a whole-school careers and destinat...   \n",
       "4  353476  ‘Niche Engineering From Concept To Supply’\\ \\ ...   \n",
       "5  420991  Control your data. Collect your money. Explora...   \n",
       "\n",
       "                source  is_edited          created_at language  \n",
       "0  LinkedIn - Reported        0.0 2023-08-05 12:22:59       en  \n",
       "1  LinkedIn - Reported        0.0 2023-10-31 02:53:58       en  \n",
       "2  LinkedIn - Reported        0.0 2023-11-01 12:34:34       en  \n",
       "4  LinkedIn - Reported        0.0 2023-08-04 14:30:31       en  \n",
       "5              website        0.0 2023-10-23 18:55:50       en  "
      ]
     },
     "execution_count": 5,
     "metadata": {},
     "output_type": "execute_result"
    }
   ],
   "source": [
    "df_filtered = df[df.language == \"en\"]\n",
    "df_filtered.head()"
   ]
  },
  {
   "cell_type": "code",
   "execution_count": 6,
   "id": "9c9873c6",
   "metadata": {},
   "outputs": [
    {
     "name": "stdout",
     "output_type": "stream",
     "text": [
      "0       cegid lead provider cloud business management ...\n",
      "1       page <NUM> printer service orient print compan...\n",
      "2       unifrog whole school career destination platfo...\n",
      "4       niche engineering concept supply found <NUM> b...\n",
      "5       control datum collect money exploration group ...\n",
      "                              ...                        \n",
      "1093    ft pipeline system manufacture coat line steel...\n",
      "1094    found <NUM> datakwip mission change way world ...\n",
      "1095    onramp dynamic customer onboarding software he...\n",
      "1096    spaulde clinical cro specializes phase clinica...\n",
      "1099    patent boutique european uk patent attorney pr...\n",
      "Name: clean, Length: 938, dtype: object\n"
     ]
    }
   ],
   "source": [
    "# Initialize preprocessor\n",
    "preprocessor = TextPreprocessor(use_spell_correction=False)\n",
    "\n",
    "# Optional: build bigram model on all tokenized descriptions\n",
    "token_lists = [preprocessor.tokenize(preprocessor.clean_text(desc)) for desc in df_filtered['company_description']]\n",
    "preprocessor.build_bigrams(token_lists)\n",
    "\n",
    "# Apply preprocessing\n",
    "df_filtered = df_filtered.copy()\n",
    "df_filtered['clean'] = df_filtered['company_description'].apply(preprocessor.preprocess)\n",
    "print(df_filtered['clean'])"
   ]
  },
  {
   "cell_type": "code",
   "execution_count": 7,
   "id": "c97ba4a2",
   "metadata": {},
   "outputs": [],
   "source": [
    "from sklearn.preprocessing import LabelEncoder\n",
    "\n",
    "le = LabelEncoder()\n",
    "df_filtered['target'] = le.fit_transform(df_filtered['source'])"
   ]
  },
  {
   "cell_type": "code",
   "execution_count": 8,
   "id": "3dd805fb",
   "metadata": {},
   "outputs": [],
   "source": [
    "from sklearn.model_selection import train_test_split\n",
    "\n",
    "X_train, X_test, y_train, y_test = train_test_split(\n",
    "    df_filtered['clean'], df_filtered['target'], test_size=0.2, random_state=42, stratify=df_filtered['target']\n",
    ")"
   ]
  },
  {
   "cell_type": "code",
   "execution_count": 9,
   "id": "60ddf75c",
   "metadata": {},
   "outputs": [],
   "source": [
    "from src.preprocessing import encode, create_vocab\n",
    "\n",
    "vocab = create_vocab(X_train)\n",
    "vocab_size = len(vocab) + 1"
   ]
  },
  {
   "cell_type": "code",
   "execution_count": null,
   "id": "b0c20e76",
   "metadata": {},
   "outputs": [
    {
     "ename": "TypeError",
     "evalue": "'map' object is not subscriptable",
     "output_type": "error",
     "traceback": [
      "\u001b[31m---------------------------------------------------------------------------\u001b[39m",
      "\u001b[31mTypeError\u001b[39m                                 Traceback (most recent call last)",
      "\u001b[36mCell\u001b[39m\u001b[36m \u001b[39m\u001b[32mIn[13]\u001b[39m\u001b[32m, line 1\u001b[39m\n\u001b[32m----> \u001b[39m\u001b[32m1\u001b[39m \u001b[38;5;28;43mmap\u001b[39;49m\u001b[43m(\u001b[49m\u001b[38;5;28;43;01mlambda\u001b[39;49;00m\u001b[43m \u001b[49m\u001b[43mx\u001b[49m\u001b[43m:\u001b[49m\u001b[43m \u001b[49m\u001b[43mencode\u001b[49m\u001b[43m(\u001b[49m\u001b[43mx\u001b[49m\u001b[43m,\u001b[49m\u001b[43m \u001b[49m\u001b[43mvocab\u001b[49m\u001b[43m)\u001b[49m\u001b[43m,\u001b[49m\u001b[43m \u001b[49m\u001b[43mX_train\u001b[49m\u001b[43m)\u001b[49m\u001b[43m[\u001b[49m\u001b[32;43m0\u001b[39;49m\u001b[43m]\u001b[49m\n",
      "\u001b[31mTypeError\u001b[39m: 'map' object is not subscriptable"
     ]
    }
   ],
   "source": [
    "map(lambda x: encode(x, vocab), X_train)"
   ]
  },
  {
   "cell_type": "code",
   "execution_count": null,
   "id": "febfe8ad",
   "metadata": {},
   "outputs": [],
   "source": [
    "from torch.utils.data import Dataset, DataLoader\n",
    "import torch\n",
    "\n",
    "class CompanyDataset(Dataset):\n",
    "    def __init__(self, documents, labels, max_len=50):\n",
    "        self.documents = documents\n",
    "        self.labels = labels\n",
    "        self.max_len = max_len\n",
    "\n",
    "    def __len__(self):\n",
    "        return len(self.documents)\n",
    "\n",
    "    def __getitem__(self, idx):\n",
    "        ids = self.documents[idx]\n",
    "        return {\n",
    "            'input_ids': torch.tensor(ids, dtype=torch.long),\n",
    "            'labels': torch.tensor(self.labels[idx], dtype=torch.long)\n",
    "        }\n",
    "\n",
    "train_dataset = CompanyDataset(X_train.tolist(), y_train.tolist())\n",
    "val_dataset = CompanyDataset(X_test.tolist(), y_test.tolist())\n",
    "train_loader = DataLoader(train_dataset, batch_size=32, shuffle=True)\n",
    "val_loader = DataLoader(val_dataset, batch_size=32)"
   ]
  },
  {
   "cell_type": "code",
   "execution_count": null,
   "id": "54e3ce45",
   "metadata": {},
   "outputs": [
    {
     "name": "stderr",
     "output_type": "stream",
     "text": [
      "💡 Tip: For seamless cloud uploads and versioning, try installing [litmodels](https://pypi.org/project/litmodels/) to enable LitModelCheckpoint, which syncs automatically with the Lightning model registry.\n",
      "GPU available: False, used: False\n",
      "TPU available: False, using: 0 TPU cores\n",
      "HPU available: False, using: 0 HPUs\n"
     ]
    }
   ],
   "source": [
    "n_classes = len(le.classes_)\n",
    "\n",
    "trainer = pl.Trainer(\n",
    "    max_epochs=10,\n",
    "    accelerator='cpu',\n",
    "    devices=1  # must be an int > 0 for CPU\n",
    ")"
   ]
  },
  {
   "cell_type": "code",
   "execution_count": null,
   "id": "3554c2a5",
   "metadata": {},
   "outputs": [
    {
     "name": "stderr",
     "output_type": "stream",
     "text": [
      "\n",
      "  | Name      | Type      | Params | Mode \n",
      "------------------------------------------------\n",
      "0 | embedding | Embedding | 520 K  | train\n",
      "1 | fc1       | Linear    | 12.9 K | train\n",
      "2 | fc2       | Linear    | 258    | train\n",
      "------------------------------------------------\n",
      "534 K     Trainable params\n",
      "0         Non-trainable params\n",
      "534 K     Total params\n",
      "2.136     Total estimated model params size (MB)\n",
      "3         Modules in train mode\n",
      "0         Modules in eval mode\n"
     ]
    },
    {
     "name": "stdout",
     "output_type": "stream",
     "text": [
      "Epoch 9: 100%|██████████| 24/24 [00:00<00:00, 87.67it/s, v_num=5, val_loss=0.504, val_acc=0.819] "
     ]
    },
    {
     "name": "stderr",
     "output_type": "stream",
     "text": [
      "`Trainer.fit` stopped: `max_epochs=10` reached.\n"
     ]
    },
    {
     "name": "stdout",
     "output_type": "stream",
     "text": [
      "Epoch 9: 100%|██████████| 24/24 [00:00<00:00, 80.10it/s, v_num=5, val_loss=0.504, val_acc=0.819]\n"
     ]
    }
   ],
   "source": [
    "# model = MeanPoolingTextClassifier(\n",
    "#     vocab_size=vocab_size,\n",
    "#     embed_dim=100,\n",
    "#     n_classes=n_classes\n",
    "# )\n",
    "model = TransformerTextClassifier(\n",
    "    vocab_size=vocab_size,\n",
    "    embed_dim=100,\n",
    "    n_classes=n_classes\n",
    ")\n",
    "trainer.fit(model, train_loader, val_loader)"
   ]
  }
 ],
 "metadata": {
  "kernelspec": {
   "display_name": "Python 3",
   "language": "python",
   "name": "python3"
  },
  "language_info": {
   "codemirror_mode": {
    "name": "ipython",
    "version": 3
   },
   "file_extension": ".py",
   "mimetype": "text/x-python",
   "name": "python",
   "nbconvert_exporter": "python",
   "pygments_lexer": "ipython3",
   "version": "3.13.7"
  }
 },
 "nbformat": 4,
 "nbformat_minor": 5
}
