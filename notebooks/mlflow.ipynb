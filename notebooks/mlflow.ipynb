{
 "cells": [
  {
   "cell_type": "code",
   "execution_count": 3,
   "id": "7ec88ade",
   "metadata": {},
   "outputs": [],
   "source": [
    "from mlflow.tracking import MlflowClient\n",
    "\n",
    "client = MlflowClient()\n"
   ]
  },
  {
   "cell_type": "code",
   "execution_count": 4,
   "id": "308c2570",
   "metadata": {},
   "outputs": [
    {
     "name": "stderr",
     "output_type": "stream",
     "text": [
      "/tmp/ipykernel_8120/4071128025.py:1: FutureWarning: ``mlflow.tracking.client.MlflowClient.get_latest_versions`` is deprecated since 2.9.0. Model registry stages will be removed in a future major release. To learn more about the deprecation of model registry stages, see our migration guide here: https://mlflow.org/docs/latest/model-registry.html#migrating-from-stages\n",
      "  client.get_latest_versions(\"MeanPoolingTextClassifier\")\n"
     ]
    },
    {
     "ename": "MlflowException",
     "evalue": "Registered Model with name=MeanPoolingTextClassifier not found",
     "output_type": "error",
     "traceback": [
      "\u001b[31m---------------------------------------------------------------------------\u001b[39m",
      "\u001b[31mMlflowException\u001b[39m                           Traceback (most recent call last)",
      "\u001b[36mCell\u001b[39m\u001b[36m \u001b[39m\u001b[32mIn[4]\u001b[39m\u001b[32m, line 1\u001b[39m\n\u001b[32m----> \u001b[39m\u001b[32m1\u001b[39m \u001b[43mclient\u001b[49m\u001b[43m.\u001b[49m\u001b[43mget_latest_versions\u001b[49m\u001b[43m(\u001b[49m\u001b[33;43m\"\u001b[39;49m\u001b[33;43mMeanPoolingTextClassifier\u001b[39;49m\u001b[33;43m\"\u001b[39;49m\u001b[43m)\u001b[49m\n",
      "\u001b[36mFile \u001b[39m\u001b[32m/usr/local/lib/python3.13/site-packages/mlflow/utils/annotations.py:186\u001b[39m, in \u001b[36mdeprecated.<locals>.deprecated_decorator.<locals>.deprecated_func\u001b[39m\u001b[34m(*args, **kwargs)\u001b[39m\n\u001b[32m    183\u001b[39m \u001b[38;5;129m@wraps\u001b[39m(obj)\n\u001b[32m    184\u001b[39m \u001b[38;5;28;01mdef\u001b[39;00m\u001b[38;5;250m \u001b[39m\u001b[34mdeprecated_func\u001b[39m(*args, **kwargs):\n\u001b[32m    185\u001b[39m     warnings.warn(notice, category=\u001b[38;5;167;01mFutureWarning\u001b[39;00m, stacklevel=\u001b[32m2\u001b[39m)\n\u001b[32m--> \u001b[39m\u001b[32m186\u001b[39m     \u001b[38;5;28;01mreturn\u001b[39;00m \u001b[43mobj\u001b[49m\u001b[43m(\u001b[49m\u001b[43m*\u001b[49m\u001b[43margs\u001b[49m\u001b[43m,\u001b[49m\u001b[43m \u001b[49m\u001b[43m*\u001b[49m\u001b[43m*\u001b[49m\u001b[43mkwargs\u001b[49m\u001b[43m)\u001b[49m\n",
      "\u001b[36mFile \u001b[39m\u001b[32m/usr/local/lib/python3.13/site-packages/mlflow/tracking/client.py:4073\u001b[39m, in \u001b[36mMlflowClient.get_latest_versions\u001b[39m\u001b[34m(self, name, stages)\u001b[39m\n\u001b[32m   4002\u001b[39m \u001b[38;5;129m@deprecated\u001b[39m(since=\u001b[33m\"\u001b[39m\u001b[33m2.9.0\u001b[39m\u001b[33m\"\u001b[39m, impact=_STAGES_DEPRECATION_WARNING)\n\u001b[32m   4003\u001b[39m \u001b[38;5;28;01mdef\u001b[39;00m\u001b[38;5;250m \u001b[39m\u001b[34mget_latest_versions\u001b[39m(\u001b[38;5;28mself\u001b[39m, name: \u001b[38;5;28mstr\u001b[39m, stages: \u001b[38;5;28mlist\u001b[39m[\u001b[38;5;28mstr\u001b[39m] | \u001b[38;5;28;01mNone\u001b[39;00m = \u001b[38;5;28;01mNone\u001b[39;00m) -> \u001b[38;5;28mlist\u001b[39m[ModelVersion]:\n\u001b[32m   4004\u001b[39m \u001b[38;5;250m    \u001b[39m\u001b[33;03m\"\"\"\u001b[39;00m\n\u001b[32m   4005\u001b[39m \u001b[33;03m    Latest version models for each requests stage. If no ``stages`` provided, returns the\u001b[39;00m\n\u001b[32m   4006\u001b[39m \u001b[33;03m    latest version for each stage.\u001b[39;00m\n\u001b[32m   (...)\u001b[39m\u001b[32m   4071\u001b[39m \u001b[33;03m        current_stage: None\u001b[39;00m\n\u001b[32m   4072\u001b[39m \u001b[33;03m    \"\"\"\u001b[39;00m\n\u001b[32m-> \u001b[39m\u001b[32m4073\u001b[39m     \u001b[38;5;28;43mself\u001b[39;49m\u001b[43m.\u001b[49m\u001b[43m_raise_if_prompt\u001b[49m\u001b[43m(\u001b[49m\u001b[43mname\u001b[49m\u001b[43m)\u001b[49m\n\u001b[32m   4074\u001b[39m     \u001b[38;5;28;01mreturn\u001b[39;00m \u001b[38;5;28mself\u001b[39m._get_registry_client().get_latest_versions(name, stages)\n",
      "\u001b[36mFile \u001b[39m\u001b[32m/usr/local/lib/python3.13/site-packages/mlflow/tracking/client.py:5401\u001b[39m, in \u001b[36mMlflowClient._raise_if_prompt\u001b[39m\u001b[34m(self, name)\u001b[39m\n\u001b[32m   5397\u001b[39m \u001b[38;5;28;01mdef\u001b[39;00m\u001b[38;5;250m \u001b[39m\u001b[34m_raise_if_prompt\u001b[39m(\u001b[38;5;28mself\u001b[39m, name: \u001b[38;5;28mstr\u001b[39m) -> \u001b[38;5;28;01mNone\u001b[39;00m:\n\u001b[32m   5398\u001b[39m \u001b[38;5;250m    \u001b[39m\u001b[33;03m\"\"\"\u001b[39;00m\n\u001b[32m   5399\u001b[39m \u001b[33;03m    Validate if the given name is registered as a Prompt rather than a Registered Model.\u001b[39;00m\n\u001b[32m   5400\u001b[39m \u001b[33;03m    \"\"\"\u001b[39;00m\n\u001b[32m-> \u001b[39m\u001b[32m5401\u001b[39m     rm = \u001b[38;5;28;43mself\u001b[39;49m\u001b[43m.\u001b[49m\u001b[43mget_registered_model\u001b[49m\u001b[43m(\u001b[49m\u001b[43mname\u001b[49m\u001b[43m)\u001b[49m\n\u001b[32m   5402\u001b[39m     \u001b[38;5;28;01mif\u001b[39;00m has_prompt_tag(rm._tags):\n\u001b[32m   5403\u001b[39m         \u001b[38;5;28;01mraise\u001b[39;00m _model_not_found(name)\n",
      "\u001b[36mFile \u001b[39m\u001b[32m/usr/local/lib/python3.13/site-packages/mlflow/tracking/client.py:3994\u001b[39m, in \u001b[36mMlflowClient.get_registered_model\u001b[39m\u001b[34m(self, name)\u001b[39m\n\u001b[32m   3953\u001b[39m \u001b[38;5;28;01mdef\u001b[39;00m\u001b[38;5;250m \u001b[39m\u001b[34mget_registered_model\u001b[39m(\u001b[38;5;28mself\u001b[39m, name: \u001b[38;5;28mstr\u001b[39m) -> RegisteredModel:\n\u001b[32m   3954\u001b[39m \u001b[38;5;250m    \u001b[39m\u001b[33;03m\"\"\"Get a registered model.\u001b[39;00m\n\u001b[32m   3955\u001b[39m \n\u001b[32m   3956\u001b[39m \u001b[33;03m    Args:\u001b[39;00m\n\u001b[32m   (...)\u001b[39m\u001b[32m   3992\u001b[39m \u001b[33;03m        description: This sentiment analysis model classifies the tone-happy, sad, angry.\u001b[39;00m\n\u001b[32m   3993\u001b[39m \u001b[33;03m    \"\"\"\u001b[39;00m\n\u001b[32m-> \u001b[39m\u001b[32m3994\u001b[39m     rm = \u001b[38;5;28;43mself\u001b[39;49m\u001b[43m.\u001b[49m\u001b[43m_get_registry_client\u001b[49m\u001b[43m(\u001b[49m\u001b[43m)\u001b[49m\u001b[43m.\u001b[49m\u001b[43mget_registered_model\u001b[49m\u001b[43m(\u001b[49m\u001b[43mname\u001b[49m\u001b[43m)\u001b[49m\n\u001b[32m   3996\u001b[39m     \u001b[38;5;66;03m# Prompt should not be returned as a registered model\u001b[39;00m\n\u001b[32m   3997\u001b[39m     \u001b[38;5;28;01mif\u001b[39;00m has_prompt_tag(rm._tags):\n",
      "\u001b[36mFile \u001b[39m\u001b[32m/usr/local/lib/python3.13/site-packages/mlflow/tracking/_model_registry/client.py:180\u001b[39m, in \u001b[36mModelRegistryClient.get_registered_model\u001b[39m\u001b[34m(self, name)\u001b[39m\n\u001b[32m    172\u001b[39m \u001b[38;5;28;01mdef\u001b[39;00m\u001b[38;5;250m \u001b[39m\u001b[34mget_registered_model\u001b[39m(\u001b[38;5;28mself\u001b[39m, name):\n\u001b[32m    173\u001b[39m \u001b[38;5;250m    \u001b[39m\u001b[33;03m\"\"\"\u001b[39;00m\n\u001b[32m    174\u001b[39m \u001b[33;03m    Args:\u001b[39;00m\n\u001b[32m    175\u001b[39m \u001b[33;03m        name: Name of the registered model to get.\u001b[39;00m\n\u001b[32m   (...)\u001b[39m\u001b[32m    178\u001b[39m \u001b[33;03m        A single :py:class:`mlflow.entities.model_registry.RegisteredModel` object.\u001b[39;00m\n\u001b[32m    179\u001b[39m \u001b[33;03m    \"\"\"\u001b[39;00m\n\u001b[32m--> \u001b[39m\u001b[32m180\u001b[39m     \u001b[38;5;28;01mreturn\u001b[39;00m \u001b[38;5;28;43mself\u001b[39;49m\u001b[43m.\u001b[49m\u001b[43mstore\u001b[49m\u001b[43m.\u001b[49m\u001b[43mget_registered_model\u001b[49m\u001b[43m(\u001b[49m\u001b[43mname\u001b[49m\u001b[43m)\u001b[49m\n",
      "\u001b[36mFile \u001b[39m\u001b[32m/usr/local/lib/python3.13/site-packages/mlflow/store/model_registry/file_store.py:424\u001b[39m, in \u001b[36mFileStore.get_registered_model\u001b[39m\u001b[34m(self, name)\u001b[39m\n\u001b[32m    422\u001b[39m model_path = \u001b[38;5;28mself\u001b[39m._get_registered_model_path(name)\n\u001b[32m    423\u001b[39m \u001b[38;5;28;01mif\u001b[39;00m \u001b[38;5;129;01mnot\u001b[39;00m exists(model_path):\n\u001b[32m--> \u001b[39m\u001b[32m424\u001b[39m     \u001b[38;5;28;01mraise\u001b[39;00m MlflowException(\n\u001b[32m    425\u001b[39m         \u001b[33mf\u001b[39m\u001b[33m\"\u001b[39m\u001b[33mRegistered Model with name=\u001b[39m\u001b[38;5;132;01m{\u001b[39;00mname\u001b[38;5;132;01m}\u001b[39;00m\u001b[33m not found\u001b[39m\u001b[33m\"\u001b[39m,\n\u001b[32m    426\u001b[39m         RESOURCE_DOES_NOT_EXIST,\n\u001b[32m    427\u001b[39m     )\n\u001b[32m    428\u001b[39m \u001b[38;5;28;01mreturn\u001b[39;00m \u001b[38;5;28mself\u001b[39m._get_registered_model_from_path(model_path)\n",
      "\u001b[31mMlflowException\u001b[39m: Registered Model with name=MeanPoolingTextClassifier not found"
     ]
    }
   ],
   "source": [
    "client.get_latest_versions(\"MeanPoolingTextClassifier\")"
   ]
  }
 ],
 "metadata": {
  "kernelspec": {
   "display_name": "Python 3",
   "language": "python",
   "name": "python3"
  },
  "language_info": {
   "codemirror_mode": {
    "name": "ipython",
    "version": 3
   },
   "file_extension": ".py",
   "mimetype": "text/x-python",
   "name": "python",
   "nbconvert_exporter": "python",
   "pygments_lexer": "ipython3",
   "version": "3.13.7"
  }
 },
 "nbformat": 4,
 "nbformat_minor": 5
}
